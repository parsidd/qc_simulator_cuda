{
  "nbformat": 4,
  "nbformat_minor": 0,
  "metadata": {
    "colab": {
      "name": "qiskit checker.ipynb",
      "provenance": [],
      "collapsed_sections": [
        "sEkO1PjGHW7B"
      ]
    },
    "kernelspec": {
      "name": "python3",
      "display_name": "Python 3"
    },
    "language_info": {
      "name": "python"
    }
  },
  "cells": [
    {
      "cell_type": "markdown",
      "metadata": {
        "id": "sEkO1PjGHW7B"
      },
      "source": [
        "#Setup"
      ]
    },
    {
      "cell_type": "code",
      "metadata": {
        "id": "crRdu_R5G-gD"
      },
      "source": [
        "!pip install qiskit"
      ],
      "execution_count": null,
      "outputs": []
    },
    {
      "cell_type": "code",
      "metadata": {
        "id": "_akxGKxHHTwE",
        "colab": {
          "base_uri": "https://localhost:8080/"
        },
        "outputId": "3d3c8486-d1a3-4d08-98e8-45bfda265eda"
      },
      "source": [
        "!pip install pylatexenc"
      ],
      "execution_count": 43,
      "outputs": [
        {
          "output_type": "stream",
          "text": [
            "Requirement already satisfied: pylatexenc in /usr/local/lib/python3.7/dist-packages (2.10)\n"
          ],
          "name": "stdout"
        }
      ]
    },
    {
      "cell_type": "code",
      "metadata": {
        "id": "KbMRY7fJzQRo"
      },
      "source": [
        "import numpy as np\n",
        "# Importing standard Qiskit libraries\n",
        "from qiskit import QuantumCircuit, execute, BasicAer, Aer\n",
        "from qiskit.tools.jupyter import *\n",
        "from qiskit.visualization import *\n",
        "from qiskit.extensions import *\n",
        "import matplotlib.pyplot as plt\n",
        "from qiskit.quantum_info import random_statevector\n",
        "from qiskit.tools.jupyter import *\n",
        "from timeit import default_timer as timer"
      ],
      "execution_count": 46,
      "outputs": []
    },
    {
      "cell_type": "code",
      "metadata": {
        "colab": {
          "base_uri": "https://localhost:8080/"
        },
        "id": "8IHElNjgIMz_",
        "outputId": "8791eb51-d98f-40de-a229-d6e6e017e28e"
      },
      "source": [
        "from google.colab import drive\n",
        "drive.mount('/content/drive')"
      ],
      "execution_count": 45,
      "outputs": [
        {
          "output_type": "stream",
          "text": [
            "Drive already mounted at /content/drive; to attempt to forcibly remount, call drive.mount(\"/content/drive\", force_remount=True).\n"
          ],
          "name": "stdout"
        }
      ]
    },
    {
      "cell_type": "markdown",
      "metadata": {
        "id": "ebl87nxuHbIo"
      },
      "source": [
        "#QFT checker"
      ]
    },
    {
      "cell_type": "code",
      "metadata": {
        "id": "hMSIbzv_Gm97"
      },
      "source": [
        "n = 4\n",
        "# qc.h([2,3,4,5,6])\n",
        "# qc.x([0,1,2])\n",
        "# qc.h([0])\n",
        "vec = random_statevector(2**n)\n",
        "\n",
        "start = timer()\n",
        "qc = QuantumCircuit(n)\n",
        "# initial_state = qc.initialize(vec.data, range(n))\n",
        "for j in range(n-1,-1,-1):\n",
        "    qc.h(j)\n",
        "    for m in range(j-1,-1,-1):\n",
        "        qc.cp(np.pi/float(2**(j-m)), j, m)\n",
        "for qubit in range(n//2):\n",
        "        qc.swap(qubit, n-qubit-1)\n",
        "# for qubit in range(n//2):\n",
        "#         qc.swap(qubit, n-qubit-1)\n",
        "# for j in range(n):\n",
        "#         for m in range(j):\n",
        "#             qc.cp(-np.pi/float(2**(j-m)), m, j)\n",
        "#         qc.h(j)\n",
        "# qc.measure_all()\n",
        "# # qc.draw(output = \"mpl\")\n",
        "# qasm_sim = BasicAer.get_backend('qasm_simulator')\n",
        "# shots = 2048\n",
        "# counts = execute(qc, backend = qasm_sim, shots= shots).result().get_counts()\n",
        "# # plot_histogram(counts)\n",
        "# counts = dict(counts)\n",
        "# for i in range(2**n):\n",
        "#   key = format(i,\"0\"+str(n)+\"b\")\n",
        "#   if key in counts.keys():\n",
        "#     counts[key] /= shots\n",
        "#   else:\n",
        "#     counts[key] = 0\n",
        "#     # print(str(i)+\" \"+str(counts[format(i,\"0\"+str(n)+\"b\")]))\n",
        "\n",
        "sim = Aer.get_backend('statevector_simulator')\n",
        "job = execute(qc, sim)\n",
        "out = job.result().get_statevector(qc)\n",
        "end = timer()\n",
        "out = abs(out)**2\n",
        "# printf(\"Time taken for circuit creation and execution = \", end-start)\n",
        "input_file = open(\"/content/drive/MyDrive/GPU_Project/qft_input.txt\",\"w\")\n",
        "input_file.write(str(n)+\"\\n\")\n",
        "for i in vec.data:\n",
        "  input_file.write(str(i.real)+\" \"+str(i.imag) + \"\\n\")\n",
        "  # input_file.write(\"0 0\\n\")\n",
        "input_file.close()\n",
        "output_file = open(\"/content/drive/MyDrive/GPU_Project/qft_output.txt\",\"w\")\n",
        "for i in range(len(out)):\n",
        "  output_file.write(str(out[i])+\"\\n\")\n",
        "output_file.close()"
      ],
      "execution_count": 58,
      "outputs": []
    },
    {
      "cell_type": "code",
      "metadata": {
        "colab": {
          "base_uri": "https://localhost:8080/",
          "height": 231
        },
        "id": "X_v64s348_kr",
        "outputId": "9a9a2d78-e898-4dc5-f5f5-95034f4ccc12"
      },
      "source": [
        "qc.draw(output = \"mpl\")"
      ],
      "execution_count": 59,
      "outputs": [
        {
          "output_type": "execute_result",
          "data": {
            "image/png": "[encoded data removed]",
            "text/plain": [
              "<Figure size 1110x264.88 with 1 Axes>"
            ]
          },
          "metadata": {
            "tags": []
          },
          "execution_count": 59
        }
      ]
    },
    {
      "cell_type": "code",
      "metadata": {
        "colab": {
          "base_uri": "https://localhost:8080/"
        },
        "id": "anaoE6wiH3cG",
        "outputId": "e1a40ccf-8f70-4a50-e99d-33211c3d74c5"
      },
      "source": [
        "max(out)"
      ],
      "execution_count": 56,
      "outputs": [
        {
          "output_type": "execute_result",
          "data": {
            "text/plain": [
              "0.007766929381812529"
            ]
          },
          "metadata": {
            "tags": []
          },
          "execution_count": 56
        }
      ]
    },
    {
      "cell_type": "markdown",
      "metadata": {
        "id": "z_e00IZgzXmA"
      },
      "source": [
        "# Random circuit test"
      ]
    },
    {
      "cell_type": "code",
      "metadata": {
        "id": "hWrFgWKqbwed",
        "colab": {
          "base_uri": "https://localhost:8080/"
        },
        "outputId": "f7626e70-bd5c-4e97-88d6-482bcdb11fb6"
      },
      "source": [
        "n = 16\n",
        "num_gates = 10000\n",
        "gates_available = [\"H\",\"S\",\"T\",\"CNOT\"]\n",
        "vec = random_statevector(2**n)\n",
        "circuit_file = open(\"/content/drive/MyDrive/GPU_Project/random_circuit_input.txt\", \"w\")\n",
        "circuit_file.write(str(n)+\"\\n\")\n",
        "circuit_file.write(str(num_gates)+\"\\n\")\n",
        "\n",
        "for i in vec.data:\n",
        "  circuit_file.write(str(i.real)+\" \"+str(i.imag) + \"\\n\")\n",
        "\n",
        "qc = QuantumCircuit(n)\n",
        "initial_state = qc.initialize(vec.data, range(n))\n",
        "\n",
        "for i in range(num_gates):\n",
        "  gate = np.random.choice(gates_available)\n",
        "  if gate == \"H\":\n",
        "    qubit = np.random.randint(n)\n",
        "    qc.h(qubit)\n",
        "    circuit_file.write(\"1 \"+str(qubit)+\"\\n\")\n",
        "  elif gate == \"S\":\n",
        "    qubit = np.random.randint(n)\n",
        "    qc.rz(np.pi/2, qubit)\n",
        "    circuit_file.write(\"2 \"+str(qubit)+\"\\n\")\n",
        "  elif gate == \"T\":\n",
        "    qubit = np.random.randint(n)\n",
        "    qc.rz(np.pi/4, qubit)\n",
        "    circuit_file.write(\"3 \"+str(qubit)+\"\\n\")\n",
        "  elif gate == \"CNOT\":\n",
        "    c_qubit, t_qubit = np.random.randint(n, size = (2))\n",
        "    if c_qubit == t_qubit:\n",
        "      t_qubit = abs(c_qubit-1)\n",
        "    qc.cx(c_qubit, t_qubit)\n",
        "    circuit_file.write(\"4 \"+str(t_qubit)+\" \"+str(c_qubit)+\"\\n\")\n",
        "circuit_file.close()\n",
        "# qc.measure_all()\n",
        "# qasm_sim = BasicAer.get_backend('qasm_simulator')\n",
        "# shots = 2048\n",
        "# counts = execute(qc, backend = qasm_sim, shots= shots).result().get_counts()\n",
        "qc_run = qc\n",
        "sim = Aer.get_backend('statevector_simulator')\n",
        "start = timer()\n",
        "job = execute(qc_run, sim)\n",
        "out = job.result().get_statevector(qc_run)\n",
        "end = timer()\n",
        "out = abs(out)**2\n",
        "# counts = dict(counts)\n",
        "# for i in range(2**n):\n",
        "#   key = format(i,\"0\"+str(n)+\"b\")\n",
        "#   if key in counts.keys():\n",
        "#     counts[key] /= shots\n",
        "#   else:\n",
        "#     counts[key] = 0\n",
        "\n",
        "print(\"Time taken = \", end-start)\n",
        "output_file = open(\"/content/drive/MyDrive/GPU_Project/random_circuit_output.txt\",\"w\")\n",
        "for i in range(len(out)):\n",
        "  output_file.write(str(out[i])+\"\\n\")\n",
        "output_file.close()\n",
        "# qc.draw(output = \"mpl\")\n"
      ],
      "execution_count": 57,
      "outputs": [
        {
          "output_type": "stream",
          "text": [
            "Time taken =  15.706798078999782\n"
          ],
          "name": "stdout"
        }
      ]
    },
    {
      "cell_type": "code",
      "metadata": {
        "colab": {
          "base_uri": "https://localhost:8080/"
        },
        "id": "6bJhRcNHqRg9",
        "outputId": "bab508b4-5773-4b6c-bded-e0af6b9d3056"
      },
      "source": [
        "max(out)"
      ],
      "execution_count": 36,
      "outputs": [
        {
          "output_type": "execute_result",
          "data": {
            "text/plain": [
              "0.022772707119042154"
            ]
          },
          "metadata": {
            "tags": []
          },
          "execution_count": 36
        }
      ]
    },
    {
      "cell_type": "code",
      "metadata": {
        "colab": {
          "base_uri": "https://localhost:8080/",
          "height": 340
        },
        "id": "lpCF5ayi27Fb",
        "outputId": "14ab38e6-4578-4fb8-c31e-939fdf4ba456"
      },
      "source": [
        "num_gates = 1\n",
        "qc = QuantumCircuit(n)\n",
        "initial_state = qc.initialize(vec.data, range(n))\n",
        "# qc.h(0)\n",
        "# qc.cx(2,0)\n",
        "qc.measure_all()\n",
        "qasm_sim = BasicAer.get_backend('qasm_simulator')\n",
        "shots = 4096\n",
        "counts = execute(qc, backend = qasm_sim, shots= shots).result().get_counts()\n",
        "plot_histogram(counts)"
      ],
      "execution_count": 57,
      "outputs": [
        {
          "output_type": "execute_result",
          "data": {
            "image/png": "[encoded data removed]",
            "text/plain": [
              "<Figure size 504x360 with 1 Axes>"
            ]
          },
          "metadata": {
            "tags": []
          },
          "execution_count": 57
        }
      ]
    },
    {
      "cell_type": "code",
      "metadata": {
        "id": "9C2Nd778r8qA"
      },
      "source": [
        "n = 3\n",
        "num_gates = 10\n",
        "qc = QuantumCircuit(n)\n",
        "vec = random_statevector(2**n)\n",
        "initial_state = qc.initialize(vec.data, range(n))\n",
        "gates_available = [\"H\",\"S\",\"T\",\"CNOT\"]\n",
        "\n",
        "circuit_file = open(\"/content/drive/MyDrive/GPU_Project/random_circuit_input.txt\", \"w\")\n",
        "circuit_file.write(str(n)+\"\\n\")\n",
        "circuit_file.write(str(num_gates)+\"\\n\")\n",
        "\n",
        "for i in vec.data:\n",
        "  circuit_file.write(str(i.real)+\" \"+str(i.imag) + \"\\n\")\n",
        "\n",
        "for i in range(num_gates):\n",
        "  gate = np.random.choice(gates_available)\n",
        "  if gate == \"H\":\n",
        "    qubit = np.random.randint(n)\n",
        "    qc.h(qubit)\n",
        "    circuit_file.write(\"1 \"+str(qubit)+\"\\n\")\n",
        "  elif gate == \"S\":\n",
        "    qubit = np.random.randint(n)\n",
        "    qc.rz(np.pi/2, qubit)\n",
        "    circuit_file.write(\"2 \"+str(qubit)+\"\\n\")\n",
        "  elif gate == \"T\":\n",
        "    qubit = np.random.randint(n)\n",
        "    qc.rz(np.pi/4, qubit)\n",
        "    circuit_file.write(\"3 \"+str(qubit)+\"\\n\")\n",
        "  elif gate == \"CNOT\":\n",
        "    c_qubit, t_qubit = np.random.randint(n, size = (2))\n",
        "    if c_qubit == t_qubit:\n",
        "      t_qubit = abs(c_qubit-1)\n",
        "    qc.cx(c_qubit, t_qubit)\n",
        "    circuit_file.write(\"4 \"+str(t_qubit)+\" \"+str(c_qubit)+\"\\n\")\n",
        "circuit_file.close()\n",
        "# qc.measure_all()"
      ],
      "execution_count": 80,
      "outputs": []
    },
    {
      "cell_type": "code",
      "metadata": {
        "colab": {
          "base_uri": "https://localhost:8080/",
          "height": 185
        },
        "id": "54OjPtWx0Dz2",
        "outputId": "5a16d8b5-730d-4f8a-e2dc-172428002870"
      },
      "source": [
        "qc.draw(output = \"mpl\")"
      ],
      "execution_count": 81,
      "outputs": [
        {
          "output_type": "execute_result",
          "data": {
            "image/png": "[encoded data removed]",
            "text/plain": [
              "<Figure size 1049.8x204.68 with 1 Axes>"
            ]
          },
          "metadata": {
            "tags": []
          },
          "execution_count": 81
        }
      ]
    },
    {
      "cell_type": "code",
      "metadata": {
        "colab": {
          "base_uri": "https://localhost:8080/"
        },
        "id": "j_hBVBup0GJr",
        "outputId": "1d8704d6-9e16-4a5e-f53b-1fe8e276c004"
      },
      "source": [
        "sim = Aer.get_backend('statevector_simulator')\n",
        "job = execute(qc, sim)\n",
        "out = job.result().get_statevector(qc)\n",
        "print(out)"
      ],
      "execution_count": 82,
      "outputs": [
        {
          "output_type": "stream",
          "text": [
            "[ 0.27424133+0.11345574j -0.47339319+0.00428987j -0.21627137-0.13945771j\n",
            " -0.17997169+0.19536285j  0.48778148-0.25030671j -0.0144143 -0.06937262j\n",
            " -0.28376366+0.02176522j -0.39238668-0.10224657j]\n"
          ],
          "name": "stdout"
        }
      ]
    },
    {
      "cell_type": "code",
      "metadata": {
        "colab": {
          "base_uri": "https://localhost:8080/"
        },
        "id": "XkUc1v3O0J2c",
        "outputId": "8746140f-ac50-44b8-d99d-e62c0ab47f95"
      },
      "source": [
        "abs(out)**2"
      ],
      "execution_count": 90,
      "outputs": [
        {
          "output_type": "execute_result",
          "data": {
            "text/plain": [
              "1.0"
            ]
          },
          "metadata": {
            "tags": []
          },
          "execution_count": 90
        }
      ]
    },
    {
      "cell_type": "code",
      "metadata": {
        "id": "5eczJOiy0cSE"
      },
      "source": [
        ""
      ],
      "execution_count": null,
      "outputs": []
    }
  ]
}